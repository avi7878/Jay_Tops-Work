{
  "metadata": {
    "language_info": {
      "codemirror_mode": {
        "name": "python",
        "version": 3
      },
      "file_extension": ".py",
      "mimetype": "text/x-python",
      "name": "python",
      "nbconvert_exporter": "python",
      "pygments_lexer": "ipython3",
      "version": "3.8"
    },
    "kernelspec": {
      "name": "python",
      "display_name": "Python (Pyodide)",
      "language": "python"
    }
  },
  "nbformat_minor": 4,
  "nbformat": 4,
  "cells": [
    {
      "cell_type": "code",
      "source": " \"\"\"\n\nprint is an inbuilt function in python\nusing of print we can display appropriate messege on console screen.\n\nsyntax:\n\nprint(message)\n\n\"\"\"\nprint(\"hello\")\n ",
      "metadata": {
        "trusted": true
      },
      "execution_count": 1,
      "outputs": [
        {
          "name": "stdout",
          "text": "hello\n",
          "output_type": "stream"
        }
      ]
    },
    {
      "cell_type": "code",
      "source": "\"\"\"\n\nVariable : A name which can store a value oin python there is no need to declare any variable here....\n\nsyntax:\n\nVar = value\n\n\"\"\"\n",
      "metadata": {},
      "execution_count": null,
      "outputs": []
    },
    {
      "cell_type": "code",
      "source": "name = \"Python\"\nprint(name)",
      "metadata": {
        "trusted": true
      },
      "execution_count": 2,
      "outputs": [
        {
          "name": "stdout",
          "text": "Python\n",
          "output_type": "stream"
        }
      ]
    },
    {
      "cell_type": "code",
      "source": "num1 = 10\nnum2 = 20\n\nprint(num1 + num2)\n",
      "metadata": {
        "trusted": true
      },
      "execution_count": 3,
      "outputs": [
        {
          "name": "stdout",
          "text": "30\n",
          "output_type": "stream"
        }
      ]
    },
    {
      "cell_type": "code",
      "source": "\"\"\"\n\ndynamic data - accept values from user\n\ninput() : using of input function we can accept value from user\nby default it accept value in string format\n\nsyntax :\n\ninput(\"appropriate message\")\n\n\n\"\"\"\n\nname = input(\"Enter your name :\")\nprint(name)\n\n\n",
      "metadata": {
        "trusted": true
      },
      "execution_count": 4,
      "outputs": [
        {
          "name": "stdout",
          "text": "<Future pending>\n",
          "output_type": "stream"
        },
        {
          "output_type": "stream",
          "name": "stdin",
          "text": "Enter your name : Jay\n"
        }
      ]
    },
    {
      "cell_type": "code",
      "source": "month = 24\n\nyear = 24/12\nprint(year)",
      "metadata": {
        "trusted": true
      },
      "execution_count": 13,
      "outputs": [
        {
          "name": "stdout",
          "text": "2.0\n",
          "output_type": "stream"
        }
      ]
    },
    {
      "cell_type": "code",
      "source": "principle = 1000\nrate = 5\ntime = 2\n\nsi = principle*rate*time/100\n\nprint(si)\n\n",
      "metadata": {
        "trusted": true
      },
      "execution_count": 6,
      "outputs": [
        {
          "name": "stdout",
          "text": "100.0\n",
          "output_type": "stream"
        }
      ]
    },
    {
      "cell_type": "code",
      "source": "month = 48\nyear = 48/12\ndays = 48*30\n\nprint(year)\nprint(days)",
      "metadata": {
        "trusted": true
      },
      "execution_count": 12,
      "outputs": [
        {
          "name": "stdout",
          "text": "4.0\n1440\n",
          "output_type": "stream"
        }
      ]
    },
    {
      "cell_type": "code",
      "source": "days = 20\nhours = days*24\nminutes = hours*60\nseconds = minutes*60\n\nprint(days)\nprint(hours)\nprint(minutes)\nprint(seconds)\n\n",
      "metadata": {
        "trusted": true
      },
      "execution_count": 10,
      "outputs": [
        {
          "name": "stdout",
          "text": "20\n480\n28800\n1728000\n",
          "output_type": "stream"
        }
      ]
    }
  ]
}